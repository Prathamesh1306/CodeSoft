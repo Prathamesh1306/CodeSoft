{
 "cells": [
  {
   "cell_type": "markdown",
   "metadata": {},
   "source": [
    "Importing all necessary libraries"
   ]
  },
  {
   "cell_type": "code",
   "execution_count": null,
   "metadata": {},
   "outputs": [],
   "source": [
    "import pandas as pd\n",
    "from sklearn.feature_extraction.text import TfidfVectorizer\n",
    "from sklearn.linear_model import LogisticRegression\n",
    "from sklearn.pipeline import Pipeline\n",
    "from sklearn.model_selection import train_test_split\n",
    "from sklearn.metrics import classification_report, accuracy_score\n",
    "import joblib"
   ]
  },
  {
   "cell_type": "code",
   "execution_count": null,
   "metadata": {},
   "outputs": [],
   "source": [
    "# Load data\n",
    "train_data = pd.read_csv(r\"C:\\Users\\Asus\\OneDrive\\Documents\\Codesoft\\Movie genere classification\\Genre Classification Dataset\\train_data.txt\", sep=':::', names=['ID', 'TITLE', 'GENRE', 'DESCRIPTION'], engine='python')\n",
    "test_data = pd.read_csv(r\"C:\\Users\\Asus\\OneDrive\\Documents\\Codesoft\\Movie genere classification\\Genre Classification Dataset\\test_data.txt\", sep=':::', names=['ID', 'TITLE', 'DESCRIPTION'], engine='python')\n",
    "test_solution_data = pd.read_csv(r\"C:\\Users\\Asus\\OneDrive\\Documents\\Codesoft\\Movie genere classification\\Genre Classification Dataset\\test_data_solution.txt\", sep=':::', names=['ID', 'TITLE', 'GENRE', 'DESCRIPTION'], engine='python')\n"
   ]
  },
  {
   "cell_type": "code",
   "execution_count": null,
   "metadata": {},
   "outputs": [],
   "source": [
    "# Preprocess the data\n",
    "X_train = train_data['DESCRIPTION']\n",
    "y_train = train_data['GENRE']\n",
    "\n",
    "X_test = test_data['DESCRIPTION']\n",
    "y_test = test_solution_data['GENRE']"
   ]
  },
  {
   "cell_type": "code",
   "execution_count": null,
   "metadata": {},
   "outputs": [],
   "source": [
    "# Define the model pipeline\n",
    "pipeline = Pipeline([\n",
    "    ('tfidf', TfidfVectorizer(stop_words='english')),\n",
    "    ('logreg', LogisticRegression(max_iter=1000))\n",
    "])\n",
    "\n",
    "# Train the model\n",
    "pipeline.fit(X_train, y_train)\n",
    "\n",
    "# Make predictions\n",
    "y_pred = pipeline.predict(X_test)"
   ]
  },
  {
   "cell_type": "code",
   "execution_count": null,
   "metadata": {},
   "outputs": [],
   "source": [
    "\n",
    "# Evaluate the model\n",
    "print(classification_report(y_test, y_pred))\n",
    "print(f'Accuracy: {accuracy_score(y_test, y_pred) * 100:.2f}%')\n",
    "# Save the model\n",
    "joblib.dump(pipeline, 'genre_classifier.pkl')"
   ]
  }
 ],
 "metadata": {
  "kernelspec": {
   "display_name": "Python 3",
   "language": "python",
   "name": "python3"
  },
  "language_info": {
   "codemirror_mode": {
    "name": "ipython",
    "version": 3
   },
   "file_extension": ".py",
   "mimetype": "text/x-python",
   "name": "python",
   "nbconvert_exporter": "python",
   "pygments_lexer": "ipython3",
   "version": "3.11.0"
  }
 },
 "nbformat": 4,
 "nbformat_minor": 2
}
